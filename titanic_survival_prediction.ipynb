{
 "cells": [
  {
   "cell_type": "code",
   "execution_count": null,
   "id": "34c188a5-51ca-48e5-b004-42dd4b0b1b8b",
   "metadata": {},
   "outputs": [],
   "source": []
  }
 ],
 "metadata": {
  "kernelspec": {
   "display_name": "",
   "name": ""
  },
  "language_info": {
   "name": ""
  }
 },
 "nbformat": 4,
 "nbformat_minor": 5
}
